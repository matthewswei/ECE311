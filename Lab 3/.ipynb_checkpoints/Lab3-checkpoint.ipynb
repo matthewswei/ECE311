{
 "cells": [
  {
   "cell_type": "markdown",
   "metadata": {},
   "source": [
    "# ECE 311 Lab 3: Z-Transform and LSI Systems\n",
    "## Note: you may assume all systems are causal for this lab.\n",
    "## Due Date: 2/27 @ 11:59pm on Canvas\n",
    "\n",
    "In this lab, we will explore how to work with the z-transform and apply some of the more abstract things you have learned in ECE 310 thus far. This will be a shorter lab since there will not be many applications. Let's get started with some background and review of the z-transform.\n",
    "\n",
    "## Z-Transform Background\n",
    "\n",
    "The z-transform is a linear transform that can be thought of as the discrete-time version of the Laplace transform from ECE 210. The z-transform is defined by:\n",
    "\n",
    "$$\n",
    "X(z) = \\sum_{n=-\\infty}^{\\infty}x[n]z^{-n}.\n",
    "$$\n",
    "\n",
    "The z-transform can be visualized on the complex-valued z-plane where the x-axis is the real part of $z$ and the y-axis is the imaginary part of $z$. Therefore, like $s$ for the Laplace transform, $z$ has a real part and imaginary part. Furthermore, it is critical that we note the Region of Convergence (ROC) for each z-transform to guarantee its uniqueness. The ROC is defined as all values of $z$ that ensure the z-transform sum converges.\n",
    "\n",
    "We frequently work with systems whose z-transform is given by a rational expression of the form\n",
    "\n",
    "$$\n",
    "X(z) = \\frac{B(z)}{A(z)},\n",
    "$$\n",
    "\n",
    "where $A(z)$ and $B(z)$ are polynomials in $z^{-1}$. If we factorize the numerator and denominator, we arrive at a useful point of reference.\n",
    "\n",
    "$$\n",
    "X(z) = \\frac{\\prod_{i=1}^{N_z}(1-q_iz^{-1})}{\\prod_{j=1}^{N_p}(1-p_jz^{-1})}\n",
    "$$\n",
    "\n",
    "In the above equation, each $q_i$ is a \"zero\" of the system and each $p_j$ is a \"pole\" of the system. When an input excites a pole of the system, the output blows up to infinty and when an input touches a zero, the output goes to zero. Note that both our poles and zeros can be complex valued! We depict our poles and zeros on a \"pole-zero plot\" of the z-plane where each pole is marked by an \"x\" and each zero is marked by an \"o\". The poles of an LSI system are essential to assessing BIBO stability. For a causal LSI system, the ROC is given by $|z| > p_{\\textrm{max}}$, where $p_{\\textrm{max}}$ is the largest or outermost pole. Conversely, for a non-causal LSI system, the ROC is given by $|z| < p_{\\textrm{min}}$, the innermost or smallest pole. In either case, an LSI system is BIBO stable if and only if its ROC contains the unit circle: $|z| = 1$. Should the pole of interest lie on the unit circle, the system is marginally stable. But for this course and ECE 310, we say the system is unstable since there exists at least one bounded input that can create an unbounded output.\n",
    "\n",
    "**For this lab, you may assume all systems are causal.**\n",
    "\n",
    "The last thing we should discuss is how Linear Constant Coefficient Difference Equations (LCCDE) relate to the z-transform. Moving from an LCCDE is rather simple: we take the z-transform of both sides and remember to attach $z^-k$ for each term based on its delay argument according to the delay property of the z-transform. Below is an example of this process:\n",
    "\n",
    "$$\n",
    "y[n] - 3y[n-1] + 2y[n-2] = 2x[n] + x[n-1]\n",
    "$$\n",
    "\n",
    "Taking the z-transform of both sides:\n",
    "\n",
    "$$\n",
    "Y(z) - 3z^{-1}Y(z) + 2z^{-2}Y(z) = 2X(z) + z^{-1}X(z)\n",
    "$$\n",
    "\n",
    "$$\n",
    "Y(z)(1-3z^{-1}+2z^{-2}) = X(z)(2+z^{-1})\n",
    "$$\n",
    "\n",
    "$$\n",
    "H(z) = \\frac{Y(z)}{X(z)} = \\frac{2+z^{-1}}{1-3z^{-1}+2z^{-2}}\\cdot\\frac{z^2}{z^2} = \\frac{2z^2 +z}{z^2-3z+2}\n",
    "$$\n",
    "\n",
    "Factorizing the above rational expression would show us that we have poles at $z = 1$ and $2$ and a zero at $z = -\\frac{1}{2}$. Furthermore, this system must *not* be BIBO stable since it is causal and its largest pole lies outside the unit circle. \n",
    "\n",
    "**Note that while the two expressions shown in the last line are equivalent, the second one with positive exponents is more compatible with Python libaries as the scipy functions assume \"controls\" notation as opposed to our signal processing notation. For this lab, we will follow the notation that matches the scipy documentation.** We refer to the $H(z)$ shown above as the transfer function of the system. By convention a transfer function is defined as\n",
    "\n",
    "$$\n",
    "H(z) = \\frac{\\sum_{i=0}^{N-1}b_iz^{-i}}{1+\\sum_{j=1}^{M-1}a_jz^{-j}}\n",
    "$$\n",
    "\n",
    "Note that the first term in the denominator is a \"1\" to represent the system output not being scaled. It is important to keep these conventions in mind when utilizing Python library functions that expect them. Now that the background is done, let's try out some code."
   ]
  },
  {
   "cell_type": "code",
   "execution_count": null,
   "metadata": {},
   "outputs": [],
   "source": [
    "import numpy as np\n",
    "import matplotlib.pyplot as plt\n",
    "from IPython.display import Audio # listening to audio\n",
    "\n",
    "from pz_plot import pz_plot # pole-zero plotting utility\n",
    "from scipy import signal\n",
    "from scipy.io import wavfile # audio i/o\n",
    "\n",
    "%matplotlib inline"
   ]
  },
  {
   "cell_type": "markdown",
   "metadata": {},
   "source": [
    "We will start by working from a transfer function to its pole-zero plot and corresponding impulse response. Our example system is given by:\n",
    "\n",
    "$$\n",
    "H(z) = \\frac{z^{2}-\\frac{1}{2}z}{z^2-z+1}\n",
    "$$\n",
    "\n",
    "To extract its poles and zeros we will use $\\textrm{signal.tf2zpk()}$. We have provided a plotting function that takes a list or array of poles and zeros, respectively, to visualize the resulting pole-zero plot."
   ]
  },
  {
   "cell_type": "code",
   "execution_count": null,
   "metadata": {},
   "outputs": [],
   "source": [
    "b = [1, -0.5, 0] # numerator coefficients, make sure to align zeros where delay terms don't align\n",
    "a = [1, -1, 1] # denominator coefficients\n",
    "z, p, k = signal.tf2zpk(b, a) # k is system gain -> okay to ignore this\n",
    "\n",
    "print('Poles:', p)\n",
    "print('Zeros:', z)\n",
    "\"\"\"\n",
    "pz_plot(zeros_list, poles_list, plot_title)\n",
    "zeros_list = list or array of transfer function's zeros\n",
    "poles_list = list or array of transfer function's poles\n",
    "plot_title = string for title of your plot\n",
    "\"\"\"\n",
    "\n",
    "pz_plot(z, p, 'Pole-Zero Plot Example')"
   ]
  },
  {
   "cell_type": "markdown",
   "metadata": {},
   "source": [
    "Next, we can find the impulse response of our system using $\\textrm{signal.dimpulse()}$. There are a few ways to use this function and we will opt to use the system coefficients ($a$ and $b$)."
   ]
  },
  {
   "cell_type": "code",
   "execution_count": null,
   "metadata": {
    "scrolled": false
   },
   "outputs": [],
   "source": [
    "n,y = signal.dimpulse((b, a, 1), n=20) # the 1 is for the change in time per sample, n=20 means 20 points for output\n",
    "h_n = y[0] # need to access output from returned object\n",
    "\n",
    "plt.figure()\n",
    "plt.stem(n, h_n) # plot first 20 samples of impulse response\n",
    "plt.xlabel('n')\n",
    "plt.ylabel('Output Signal')\n",
    "plt.title('Impulse Response of Example System')"
   ]
  },
  {
   "cell_type": "markdown",
   "metadata": {},
   "source": [
    "# Exercise 1: Working with Transfer Functions\n",
    "\n",
    "For each of the following transfer functions, plot the pole-zero plot and (stem plot) impulse response for the requested number of points using the previously discussed functions. Try to verify the poles and zeros you find and the resulting impulse response by hand. Explain why each system is BIBO stable or not. If the system is not BIBO stable, give an example of a bounded input that would yield an unbounded output.\n",
    "\n",
    "$\n",
    "\\begin{align}\n",
    "a. H_1(z) = \\frac{1}{2} + \\frac{1}{4}z^{-2} - \\frac{1}{4}z^{-4}, \\quad 0\\leq n\\leq 5\n",
    "\\end{align}\n",
    "$\n",
    "\n",
    "$\n",
    "\\begin{align}\n",
    "b. H_2(z) = \\frac{\\frac{1}{2}z^2+\\frac{1}{4}z}{z^2-\\frac{\\sqrt{2}}{2}z+\\frac{1}{4}}, \\quad 0\\leq n\\leq 20\n",
    "\\end{align}\n",
    "$\n",
    "\n",
    "$\n",
    "\\begin{align}\n",
    "c. H_3(z) = \\frac{z^3+z^2}{z^3-1}, \\quad 0\\leq n\\leq 20\n",
    "\\end{align}\n",
    "$"
   ]
  },
  {
   "cell_type": "code",
   "execution_count": null,
   "metadata": {},
   "outputs": [],
   "source": [
    "# Code for 1.a\n",
    "\n",
    "\n",
    "# Code for 1.b\n",
    "\n",
    "\n",
    "# Code for 1.c\n",
    "\n"
   ]
  },
  {
   "cell_type": "markdown",
   "metadata": {},
   "source": [
    "## Comments here:\n",
    "\n",
    "Part 1(a):\n",
    "\n",
    "\n",
    "Part 1(b):\n",
    "\n",
    "\n",
    "Part 1(c):\n"
   ]
  },
  {
   "cell_type": "markdown",
   "metadata": {},
   "source": [
    "# Exercise 2: Working from an LCCDE\n",
    "\n",
    "For each of the following LCCDEs, determine the numerator and denominator coefficients, $a$ and $b$, respectively by hand. Using these coefficients, plot the pole-zero plot and impulse response for the requested number of points. Explain why each system is BIBO stable or not.\n",
    "\n",
    "$\\begin{align}\n",
    "a. y_1[n] = x[n] - \\frac{1}{2}x[n-1] + \\frac{1}{4}x[n-2] - \\frac{1}{8}x[n-3], \\quad 0 \\leq n \\leq 5\n",
    "\\end{align}$\n",
    "\n",
    "$\\begin{align}\n",
    "b.y_2[n] = y[n-1] - 2y[n-2] + y[n-3] + x[n] + \\frac{1}{2}x[n-1], \\quad 0\\leq n \\leq 20\n",
    "\\end{align}$\n",
    "\n",
    "$\\begin{align}\n",
    "c. y_3[n] = \\frac{1}{2}y[n-1] + \\frac{1}{4}y[n-2] + \\frac{1}{2}x[n] + \\frac{1}{4}x[n-1], \\quad 0\\leq n \\leq 20\n",
    "\\end{align}$\n",
    "\n",
    "d. Is it possible for a system with a finite-length impulse response (FIR) like the one in 2.a to not be BIBO stable? Why or why not?"
   ]
  },
  {
   "cell_type": "code",
   "execution_count": null,
   "metadata": {},
   "outputs": [],
   "source": [
    "# Code for 2.a\n",
    "\n",
    "\n",
    "# Code for 2.b\n",
    "\n",
    "\n",
    "# Code for 2.c\n",
    "\n"
   ]
  },
  {
   "cell_type": "markdown",
   "metadata": {},
   "source": [
    "## Comments here:\n",
    "\n",
    "Part 2(a):\n",
    "\n",
    "\n",
    "Part 2(b):\n",
    "\n",
    "\n",
    "Part 2(c):\n",
    "\n",
    "\n",
    "Part 2(d):\n",
    "    \n",
    "    "
   ]
  },
  {
   "cell_type": "markdown",
   "metadata": {},
   "source": [
    "# Exercise 3: Applying a Filter using Transfer Functions\n",
    "\n",
    "So far, we have only characterized LSI systems. Now let's use them as filters! Using $\\textrm{signal.lfilter(b, a, input)}$ apply each of the following filters to each of the inputs. Plot the resulting outputs for the same length as the provided input signals. You may find documentation for the filtering function <a href=\"https://docs.scipy.org/doc/scipy/reference/generated/scipy.signal.lfilter.html\">here</a>.\n",
    "\n",
    "$\\begin{align}\n",
    "a. H_1(z) = \\frac{1}{2} - \\frac{1}{2}z^{-1} + \\frac{1}{2}z^{-2}\n",
    "\\end{align}$\n",
    "\n",
    "$\\begin{align}\n",
    "b. y_2[n] = \\frac{1}{2}y[n-1] + x[n] - x[n-2]\n",
    "\\end{align}$\n",
    "\n",
    "$\n",
    "\\begin{align}\n",
    "    \\bullet~x_1[n] = \\cos\\left(\\frac{\\pi}{2}n\\right), \\quad 0 \\leq n \\leq 10\n",
    "\\end{align}\n",
    "$\n",
    "\n",
    "$\n",
    "\\begin{align}\n",
    "    \\bullet~x_2[n] = \\left(\\frac{1}{3}\\right)^nu[n], \\quad 0 \\leq n \\leq 10\n",
    "\\end{align}\n",
    "$\n"
   ]
  },
  {
   "cell_type": "code",
   "execution_count": null,
   "metadata": {},
   "outputs": [],
   "source": [
    "# Code for System A:\n",
    "\n",
    "\n",
    "# Code for System B:\n",
    "\n"
   ]
  },
  {
   "cell_type": "markdown",
   "metadata": {},
   "source": [
    "# Exercise 4: Marginal Stability\n",
    "\n",
    "For this exercise, we will explore that \"gray area\" of stability from ECE 310: marginal stability. Recall that an LTI system is referred to as marginally stable if its ROC is $|z| > 1$ or $|z| < 1$. The following two LTI systems are marginally stable:\n",
    "\n",
    "$\\begin{align}\n",
    "H_1(z) = \\frac{z^2}{z^2 + 1},\n",
    "\\end{align}$\n",
    "\n",
    "$\\begin{align}\n",
    "H_2(z) = \\frac{z^2}{z^2 - \\sqrt{2}z + 1}.\n",
    "\\end{align}$\n",
    "\n",
    "a. Plot the pole-zero plot for both systems ($H_1(z)$ and $H_2(z)$).\n",
    "\n",
    "Now, let's examine each system's response to some bounded inputs.\n",
    "\n",
    "b. Plot the filtering output for each system for each of the following inputs. Remember to use $\\textrm{signal.lfilter()}$ to obtain the system results. Please plot each system's set of outputs in one figure using $\\textrm{plt.subplot()}$ and label your figures uniquely.\n",
    "\n",
    "$\n",
    "\\begin{align}\n",
    "    \\bullet~x_1[n] = u[n], \\quad 0 \\leq n \\leq 200\n",
    "\\end{align}\n",
    "$\n",
    "\n",
    "$\n",
    "\\begin{align}\n",
    "    \\bullet~x_2[n] = \\cos\\left({\\frac{\\pi}{2}n}\\right), \\quad 0 \\leq n \\leq 200\n",
    "\\end{align}\n",
    "$\n",
    "\n",
    "$\n",
    "\\begin{align}\n",
    "    \\bullet~x_3[n] = \\cos\\left({\\frac{\\pi}{4}n}\\right), \\quad 0 \\leq n \\leq 200\n",
    "\\end{align}\n",
    "$\n",
    "\n",
    "c. Comment on the results. Specifically, which inputs cause unbounded outputs for each system and why?"
   ]
  },
  {
   "cell_type": "code",
   "execution_count": null,
   "metadata": {},
   "outputs": [],
   "source": [
    "# Code for 4.a:\n",
    "\n",
    "\n",
    "# Code for 4.b:\n",
    "# Remember to use subplots!\n",
    "\n"
   ]
  },
  {
   "cell_type": "markdown",
   "metadata": {},
   "source": [
    "## Comments here:\n",
    "\n",
    "Part 4(c):\n",
    "\n"
   ]
  },
  {
   "cell_type": "markdown",
   "metadata": {},
   "source": [
    "# Exercise 5: Inverse Filtering\n",
    "\n",
    "Suppose we are transmitting audio through a low-quality channel modeled by the following system\n",
    "\n",
    "$$\n",
    "y[n] = -y[n-1] - \\frac{1}{4}y[n-2] + 2x[n] - 2x[n-2],\n",
    "$$\n",
    "\n",
    "where $x$ is our input and $y$ is the channel output. The provided audio clip ``distorted-audio.wav`` is an example of audio corrupted by this channel. If we would like to correct this signal, we need to undo the effects of the channel. Note that the received signal $y[n]$ has a z-transform of\n",
    "\n",
    "$$\n",
    "Y(z) = H(z)X(z),\n",
    "$$\n",
    "\n",
    "where $H(z)$ is the transfer function of the channel. How can we fix our audio? Apply a filter that is the inverse of the problematic channel! So, what are you waiting for? Go save the day!\n",
    "\n",
    "a. Determine the transfer function of the required inverse filter and apply it to the ``distorted-audio.wav`` file data. Play the resulting audio using $\\textrm{Audio(data=audio_data, rate=fs)}$ like in Lab 1. Does the recovered signal sounds like the original? **Remember to be careful with the volume and be mindful of others around you as you test your code!**\n",
    "\n",
    "b. Describe the qualitative differences between the original and distorted audio clips.\n",
    "\n",
    "c. What is the relationship between the poles and zeros of the noisy channel and its inverse filter?"
   ]
  },
  {
   "cell_type": "code",
   "execution_count": null,
   "metadata": {},
   "outputs": [],
   "source": [
    "fs, clean = wavfile.read('clean-audio.wav') #reference for what the clean audio sounds like\n",
    "fs, distorted = wavfile.read('distorted-audio.wav') #distorted audio signal\n",
    "print(clean.shape) #shape of audio clip numpy arrays, only one channel for these clips\n",
    "print(distorted.shape)"
   ]
  },
  {
   "cell_type": "code",
   "execution_count": null,
   "metadata": {},
   "outputs": [],
   "source": [
    "Audio(data=clean, rate=fs) #listen to clean audio, use headphones and start at low volume!"
   ]
  },
  {
   "cell_type": "code",
   "execution_count": null,
   "metadata": {},
   "outputs": [],
   "source": [
    "Audio(data=distorted, rate=fs) #listen to distorted version"
   ]
  },
  {
   "cell_type": "code",
   "execution_count": null,
   "metadata": {},
   "outputs": [],
   "source": [
    "# Code for 5.a:\n",
    "# create inverse filter\n",
    "\n",
    "\n",
    "# apply filter to distorted audio, store in variable named \"result\"\n",
    "\n",
    "\n",
    "# typecast to appropriate data type, this helps the audio better match what we expect\n",
    "result = result.astype(np.int16)"
   ]
  },
  {
   "cell_type": "code",
   "execution_count": null,
   "metadata": {},
   "outputs": [],
   "source": [
    "Audio(data=result, rate=fs) # listen to your result!"
   ]
  },
  {
   "cell_type": "markdown",
   "metadata": {},
   "source": [
    "## Comments here:\n",
    "\n",
    "Part 5(b):\n",
    "\n",
    "\n",
    "Part 5(c):"
   ]
  }
 ],
 "metadata": {
  "kernelspec": {
   "display_name": "Python 3 (ipykernel)",
   "language": "python",
   "name": "python3"
  },
  "language_info": {
   "codemirror_mode": {
    "name": "ipython",
    "version": 3
   },
   "file_extension": ".py",
   "mimetype": "text/x-python",
   "name": "python",
   "nbconvert_exporter": "python",
   "pygments_lexer": "ipython3",
   "version": "3.10.0"
  }
 },
 "nbformat": 4,
 "nbformat_minor": 2
}
